{
 "cells": [
  {
   "cell_type": "code",
   "execution_count": 25,
   "metadata": {},
   "outputs": [
    {
     "name": "stdout",
     "output_type": "stream",
     "text": [
      "cuda:0\n"
     ]
    },
    {
     "data": {
      "text/html": [
       "\n",
       "        <script>\n",
       "            function code_toggle_11078339134872355057() {\n",
       "                $('div.cell.code_cell.rendered.selected').find('div.input').toggle();\n",
       "            }\n",
       "\n",
       "            \n",
       "        </script>\n",
       "\n",
       "        <a href=\"javascript:code_toggle_11078339134872355057()\">Toggle show/hide</a>\n",
       "    "
      ],
      "text/plain": [
       "<IPython.core.display.HTML object>"
      ]
     },
     "execution_count": 25,
     "metadata": {},
     "output_type": "execute_result"
    }
   ],
   "source": [
    "# ====================================================\n",
    "# Libraries\n",
    "# ====================================================\n",
    "import shutil\n",
    "from pathlib import Path\n",
    "from contextlib import contextmanager\n",
    "from collections import defaultdict, Counter\n",
    "\n",
    "import scipy as sp\n",
    "import numpy as np\n",
    "import pandas as pd\n",
    "\n",
    "from sklearn import preprocessing\n",
    "from sklearn.metrics import accuracy_score\n",
    "from sklearn.metrics import confusion_matrix\n",
    "from sklearn.model_selection import StratifiedKFold\n",
    "\n",
    "import itertools\n",
    "from tqdm.auto import tqdm\n",
    "from functools import partial\n",
    "\n",
    "from PIL import Image\n",
    "\n",
    "import cv2\n",
    "from skimage import io\n",
    "import torch\n",
    "from torch import nn\n",
    "import os\n",
    "import tqdm\n",
    "from datetime import datetime\n",
    "import time\n",
    "import random\n",
    "import torchvision\n",
    "from torchvision import transforms\n",
    "import pandas as pd\n",
    "import numpy as np\n",
    "from tqdm import tqdm\n",
    "import timm\n",
    "from glob import glob\n",
    "from sklearn.model_selection import GroupKFold, StratifiedKFold\n",
    "from sklearn.metrics import confusion_matrix\n",
    "\n",
    "import sklearn\n",
    "import joblib\n",
    "from sklearn.model_selection import train_test_split\n",
    "from sklearn.metrics import roc_auc_score, log_loss\n",
    "from sklearn import metrics\n",
    "import warnings\n",
    "import pydicom\n",
    "\n",
    "from torch.utils.data import Dataset,DataLoader\n",
    "from torch.utils.data.sampler import SequentialSampler, RandomSampler\n",
    "from torch.cuda.amp import autocast, GradScaler\n",
    "from torch.nn.modules.loss import _WeightedLoss\n",
    "import torch.nn.functional as F\n",
    "\n",
    "from torch.optim import Adam, SGD\n",
    "import torchvision.models as models\n",
    "from torch.nn.parameter import Parameter\n",
    "from torch.utils.data import DataLoader, Dataset\n",
    "from torch.optim.lr_scheduler import CosineAnnealingWarmRestarts, CosineAnnealingLR, ReduceLROnPlateau\n",
    "\n",
    "import albumentations as A\n",
    "from albumentations import (\n",
    "    Compose, OneOf, Normalize, Resize, RandomResizedCrop, RandomCrop, HorizontalFlip, VerticalFlip, \n",
    "    RandomBrightness, RandomContrast, RandomBrightnessContrast, Rotate, ShiftScaleRotate, Cutout, \n",
    "    IAAAdditiveGaussianNoise, Transpose\n",
    "    )\n",
    "from albumentations.pytorch import ToTensorV2\n",
    "from albumentations import ImageOnlyTransform\n",
    "\n",
    "#from efficientnet_pytorch import EfficientNet\n",
    "from scipy.ndimage.interpolation import zoom\n",
    "\n",
    "import warnings\n",
    "warnings.filterwarnings(\"ignore\")\n",
    "\n",
    "import matplotlib.pyplot as plt\n",
    "%matplotlib inline\n",
    "plt.ion()   # interactive mode\n",
    "\n",
    "\n",
    "IMAGE_DIR = image_dir = '/home/arti/DL/Datasets/chest_xray/train/'\n",
    "\n",
    "device = torch.device(\"cuda:0\" if torch.cuda.is_available() else \"cpu\") # cuda:0\n",
    "#device = torch.device(\"cpu\")\n",
    "print(device)\n",
    "\n",
    "hide_toggle(for_next=False)"
   ]
  },
  {
   "cell_type": "code",
   "execution_count": 26,
   "metadata": {},
   "outputs": [
    {
     "data": {
      "text/html": [
       "\n",
       "        <script>\n",
       "            function code_toggle_6310008706013902554() {\n",
       "                $('div.cell.code_cell.rendered.selected').find('div.input').toggle();\n",
       "            }\n",
       "\n",
       "            \n",
       "        </script>\n",
       "\n",
       "        <a href=\"javascript:code_toggle_6310008706013902554()\">Toggle show/hide</a>\n",
       "    "
      ],
      "text/plain": [
       "<IPython.core.display.HTML object>"
      ]
     },
     "execution_count": 26,
     "metadata": {},
     "output_type": "execute_result"
    }
   ],
   "source": [
    "from IPython.display import HTML\n",
    "import random\n",
    "\n",
    "def hide_toggle(for_next=False):\n",
    "    this_cell = \"\"\"$('div.cell.code_cell.rendered.selected')\"\"\"\n",
    "    next_cell = this_cell + '.next()'\n",
    "\n",
    "    toggle_text = 'Toggle show/hide'  # text shown on toggle link\n",
    "    target_cell = this_cell  # target cell to control with toggle\n",
    "    js_hide_current = ''  # bit of JS to permanently hide code in current cell (only when toggling next cell)\n",
    "\n",
    "    if for_next:\n",
    "        target_cell = next_cell\n",
    "        toggle_text += ' next cell'\n",
    "        js_hide_current = this_cell + '.find(\"div.input\").hide();'\n",
    "\n",
    "    js_f_name = 'code_toggle_{}'.format(str(random.randint(1,2**64)))\n",
    "\n",
    "    html = \"\"\"\n",
    "        <script>\n",
    "            function {f_name}() {{\n",
    "                {cell_selector}.find('div.input').toggle();\n",
    "            }}\n",
    "\n",
    "            {js_hide_current}\n",
    "        </script>\n",
    "\n",
    "        <a href=\"javascript:{f_name}()\">{toggle_text}</a>\n",
    "    \"\"\".format(\n",
    "        f_name=js_f_name,\n",
    "        cell_selector=target_cell,\n",
    "        js_hide_current=js_hide_current, \n",
    "        toggle_text=toggle_text\n",
    "    )\n",
    "\n",
    "    return HTML(html)\n",
    "\n",
    "hide_toggle(for_next=False)"
   ]
  },
  {
   "cell_type": "code",
   "execution_count": 8,
   "metadata": {},
   "outputs": [
    {
     "data": {
      "text/html": [
       "\n",
       "        <script>\n",
       "            function code_toggle_7696775293853034969() {\n",
       "                $('div.cell.code_cell.rendered.selected').find('div.input').toggle();\n",
       "            }\n",
       "\n",
       "            \n",
       "        </script>\n",
       "\n",
       "        <a href=\"javascript:code_toggle_7696775293853034969()\">Toggle show/hide</a>\n",
       "    "
      ],
      "text/plain": [
       "<IPython.core.display.HTML object>"
      ]
     },
     "execution_count": 8,
     "metadata": {},
     "output_type": "execute_result"
    }
   ],
   "source": [
    "# ====================================================\n",
    "# CFG\n",
    "# ====================================================\n",
    "class CFG:\n",
    "    num_workers=4\n",
    "    model_name='resnext50_32x4d'  # 'resnext50_32x4d'\n",
    "    size=227 ###\n",
    "    scheduler='CosineAnnealingWarmRestarts' # ['ReduceLROnPlateau', 'CosineAnnealingLR', 'CosineAnnealingWarmRestarts']\n",
    "    T_0=10 # CosineAnnealingWarmRestarts\n",
    "    epochs=10\n",
    "    lr=1e-4\n",
    "    min_lr=1e-6\n",
    "    batch_size=4 # 32\n",
    "    weight_decay=1e-6\n",
    "    gradient_accumulation_steps=1\n",
    "    max_grad_norm=1000\n",
    "    seed=42\n",
    "    target_size=2\n",
    "    target_col='label'\n",
    "    n_fold=5\n",
    "    trn_fold=[0, 1, 2, 3, 4]\n",
    "    train=True\n",
    "    inference=False\n",
    "    print_freq=100\n",
    "    smoothing=0.05\n",
    "    \n",
    "hide_toggle(for_next=False)"
   ]
  },
  {
   "cell_type": "code",
   "execution_count": 27,
   "metadata": {},
   "outputs": [
    {
     "data": {
      "text/html": [
       "\n",
       "        <script>\n",
       "            function code_toggle_11756876618114059932() {\n",
       "                $('div.cell.code_cell.rendered.selected').find('div.input').toggle();\n",
       "            }\n",
       "\n",
       "            \n",
       "        </script>\n",
       "\n",
       "        <a href=\"javascript:code_toggle_11756876618114059932()\">Toggle show/hide</a>\n",
       "    "
      ],
      "text/plain": [
       "<IPython.core.display.HTML object>"
      ]
     },
     "execution_count": 27,
     "metadata": {},
     "output_type": "execute_result"
    }
   ],
   "source": [
    "classes = ['NORMAL', 'PNEUMONIA']\n",
    "img_names_df = []\n",
    "\n",
    "for cls in classes:\n",
    "    path_to_img = image_dir+cls\n",
    "    for filename in os.listdir(path_to_img):\n",
    "            img_names_df.append([cls+'/'+filename, cls])\n",
    "\n",
    "img_names_df = pd.DataFrame(img_names_df)\n",
    "img_names_df.columns = ['names', 'class']\n",
    "\n",
    "img_names_df['label'] = img_names_df['class'].copy()\n",
    "img_names_df.loc[(img_names_df['class'] == 'NORMAL'), 'label'] = 0\n",
    "img_names_df.loc[(img_names_df['class'] == 'PNEUMONIA'), 'label'] = 1\n",
    "\n",
    "#print('\\nDataset:')\n",
    "#print('len -', len(img_names_df))\n",
    "#print('\\nsample:\\n',img_names_df.sample(5))\n",
    "#print('\\nValue counts:\\n', img_names_df['label'].value_counts(), sep='')\n",
    "hide_toggle(for_next=False)"
   ]
  },
  {
   "cell_type": "code",
   "execution_count": 28,
   "metadata": {},
   "outputs": [
    {
     "data": {
      "text/html": [
       "\n",
       "        <script>\n",
       "            function code_toggle_12222782795644765334() {\n",
       "                $('div.cell.code_cell.rendered.selected').find('div.input').toggle();\n",
       "            }\n",
       "\n",
       "            \n",
       "        </script>\n",
       "\n",
       "        <a href=\"javascript:code_toggle_12222782795644765334()\">Toggle show/hide</a>\n",
       "    "
      ],
      "text/plain": [
       "<IPython.core.display.HTML object>"
      ]
     },
     "execution_count": 28,
     "metadata": {},
     "output_type": "execute_result"
    }
   ],
   "source": [
    "train, test = train_test_split(img_names_df, test_size=0.2, shuffle=True, random_state=42)\n",
    "\n",
    "train = train.reset_index(drop=True)\n",
    "test = test.reset_index(drop=True)\n",
    "#print('\\nTrain and Val shapes: ',train.shape, test.shape)\n",
    "hide_toggle(for_next=False)"
   ]
  },
  {
   "cell_type": "code",
   "execution_count": 29,
   "metadata": {},
   "outputs": [
    {
     "data": {
      "text/html": [
       "\n",
       "        <script>\n",
       "            function code_toggle_18199823549625445547() {\n",
       "                $('div.cell.code_cell.rendered.selected').find('div.input').toggle();\n",
       "            }\n",
       "\n",
       "            \n",
       "        </script>\n",
       "\n",
       "        <a href=\"javascript:code_toggle_18199823549625445547()\">Toggle show/hide</a>\n",
       "    "
      ],
      "text/plain": [
       "<IPython.core.display.HTML object>"
      ]
     },
     "execution_count": 29,
     "metadata": {},
     "output_type": "execute_result"
    }
   ],
   "source": [
    "# ====================================================\n",
    "# Dataset\n",
    "# ====================================================\n",
    "class TrainDataset(Dataset):\n",
    "    def __init__(self, df, transform=None):\n",
    "        self.df = df\n",
    "        self.file_names = df['names'].values\n",
    "        self.labels = df['label'].values\n",
    "        self.transform = transform\n",
    "        \n",
    "    def __len__(self):\n",
    "        return len(self.df)\n",
    "\n",
    "    def __getitem__(self, idx):\n",
    "        file_name = self.file_names[idx]\n",
    "        file_path = image_dir + file_name\n",
    "        image = cv2.imread(file_path)\n",
    "        image = cv2.cvtColor(image, cv2.COLOR_BGR2RGB)\n",
    "        if self.transform:\n",
    "            augmented = self.transform(image=image)\n",
    "            image = augmented['image']\n",
    "        label = torch.tensor(self.labels[idx]).long()  # self.labels[idx]\n",
    "        return image, label, file_name\n",
    "    \n",
    "    \n",
    "class TestDataset(Dataset):\n",
    "    def __init__(self, df, transform=None):\n",
    "        self.df = df\n",
    "        self.file_names = df['names'].values\n",
    "        self.transform = transform\n",
    "        \n",
    "    def __len__(self):\n",
    "        return len(self.df)\n",
    "\n",
    "    def __getitem__(self, idx):    \n",
    "        file_name = self.file_names[idx]\n",
    "        file_path = image_dir + file_name\n",
    "        image = cv2.imread(file_path)\n",
    "        image = cv2.cvtColor(image, cv2.COLOR_BGR2RGB)\n",
    "        if self.transform:\n",
    "            augmented = self.transform(image=image)\n",
    "            image = augmented['image']\n",
    "        return image\n",
    "    \n",
    "hide_toggle(for_next=False)"
   ]
  },
  {
   "cell_type": "code",
   "execution_count": 12,
   "metadata": {},
   "outputs": [
    {
     "data": {
      "text/html": [
       "\n",
       "        <script>\n",
       "            function code_toggle_16084341804159294764() {\n",
       "                $('div.cell.code_cell.rendered.selected').find('div.input').toggle();\n",
       "            }\n",
       "\n",
       "            \n",
       "        </script>\n",
       "\n",
       "        <a href=\"javascript:code_toggle_16084341804159294764()\">Toggle show/hide</a>\n",
       "    "
      ],
      "text/plain": [
       "<IPython.core.display.HTML object>"
      ]
     },
     "execution_count": 12,
     "metadata": {},
     "output_type": "execute_result"
    }
   ],
   "source": [
    "\n",
    "def get_transforms(*, data):\n",
    "    \n",
    "    if data == 'train':\n",
    "        return Compose([            \n",
    "            Rotate(limit=10, p=0.7), # пов-ем картинку на +- 10 гр с p=70%\n",
    "            RandomResizedCrop(CFG.size, CFG.size, scale=(0.75, 1)),#делаем приближение на число [0.75, 1], resize до 256x256 \n",
    "            HorizontalFlip(p=0.5),# зеркалим\n",
    "            \n",
    "            OneOf([\n",
    "                A.Cutout(max_h_size=15,max_w_size=15),  # вырезает вадратики 15x15\n",
    "                A.CoarseDropout(max_height=25, max_width=25, min_height=10, min_width=10, fill_value=0)], p=0.5), \n",
    "                                                             \n",
    "            A.ISONoise(color_shift=(0.01, 0.05), intensity=(0.1, 0.5), always_apply=False, p=0.5),\n",
    "            A.HueSaturationValue(hue_shift_limit=0.2, sat_shift_limit=0.2, val_shift_limit=0.2, p=0.5),\n",
    "            A.RandomBrightnessContrast(brightness_limit=(-0.1,0.1), contrast_limit=(-0.1, 0.1), p=0.5),\n",
    "            \n",
    "            Normalize(\n",
    "                mean=[0.485, 0.456, 0.406],\n",
    "                std=[0.229, 0.224, 0.225],\n",
    "            ),\n",
    "            ToTensorV2(),\n",
    "        ])\n",
    "    \n",
    "    elif data == 'train_without_augment':\n",
    "        return Compose([            \n",
    "            #Resize(CFG.size, CFG.size),\n",
    "            RandomResizedCrop(CFG.size, CFG.size, scale=(0.8, 1)),\n",
    "            HorizontalFlip(p=0.5),\n",
    "            Normalize(\n",
    "                mean=[0.485, 0.456, 0.406],\n",
    "                std=[0.229, 0.224, 0.225],\n",
    "            ),\n",
    "            ToTensorV2(),\n",
    "        ])\n",
    "    \n",
    "    elif data == 'valid':\n",
    "        return Compose([\n",
    "            Resize(CFG.size, CFG.size),\n",
    "            Normalize(\n",
    "                mean=[0.485, 0.456, 0.406],\n",
    "                std=[0.229, 0.224, 0.225],\n",
    "            ),\n",
    "            ToTensorV2(),\n",
    "        ])\n",
    "    \n",
    "hide_toggle(for_next=False)"
   ]
  },
  {
   "cell_type": "code",
   "execution_count": 13,
   "metadata": {},
   "outputs": [
    {
     "data": {
      "text/html": [
       "\n",
       "        <script>\n",
       "            function code_toggle_5605613390434297775() {\n",
       "                $('div.cell.code_cell.rendered.selected').find('div.input').toggle();\n",
       "            }\n",
       "\n",
       "            \n",
       "        </script>\n",
       "\n",
       "        <a href=\"javascript:code_toggle_5605613390434297775()\">Toggle show/hide</a>\n",
       "    "
      ],
      "text/plain": [
       "<IPython.core.display.HTML object>"
      ]
     },
     "execution_count": 13,
     "metadata": {},
     "output_type": "execute_result"
    }
   ],
   "source": [
    "def train_fn(train_loader, model, criterion, optimizer, device):    \n",
    "    # switch to train mode\n",
    "    model.train()\n",
    "    \n",
    "    running_loss = 0.0\n",
    "    running_corrects = 0.0\n",
    "    \n",
    "    for images, labels, _ in train_loader:\n",
    "        images, labels = images.to(device), labels.to(device)\n",
    "\n",
    "        t_outputs = model(images) # every batch of 100 images are put as an input.\n",
    "        t_loss = criterion(t_outputs, labels)\n",
    "\n",
    "        optimizer.zero_grad() #setting the initial gradient to 0\n",
    "        t_loss.backward() # backpropagating the loss\n",
    "        optimizer.step() # updating the weights and bias values for every single step.\n",
    "\n",
    "        preds = torch.max(t_outputs, 1)[1] # taking the highest value of prediction.\n",
    "\n",
    "        running_loss += t_loss.item()\n",
    "        running_corrects += torch.sum(preds == labels.data) # calculating te accuracy by taking the sum of all the correct predictions in a batch.\n",
    "    \n",
    "    # Total Epoch loss and Acc\n",
    "    epoch_loss = running_loss/len(train_loader) # loss per epoch\n",
    "    epoch_acc = running_corrects.float()/ len(train_loader) # accuracy per epoch\n",
    "        \n",
    "    return epoch_loss, epoch_acc\n",
    "\n",
    "def valid_fn(val_loader, model, criterion, device):    \n",
    "    # switch to evaluation mode\n",
    "    model.eval()\n",
    "    \n",
    "    val_running_loss = 0.0\n",
    "    val_running_corrects = 0.0\n",
    "    \n",
    "    with torch.no_grad(): # we do not need gradient for validation.\n",
    "\n",
    "        for v_images, v_labels, _ in val_loader:\n",
    "            v_images, v_labels = v_images.to(device), v_labels.to(device)\n",
    "\n",
    "            val_outputs = model(v_images)\n",
    "            val_loss = criterion(val_outputs, v_labels)\n",
    "            \n",
    "            val_preds = torch.max(val_outputs, 1)[1]\n",
    "            val_running_loss += val_loss.item()\n",
    "            val_running_corrects += torch.sum(val_preds == v_labels.data)\n",
    "            \n",
    "        val_epoch_loss = val_running_loss/len(val_loader)\n",
    "        val_epoch_acc = val_running_corrects.float()/ len(val_loader)\n",
    "    \n",
    "    return val_epoch_loss, val_epoch_acc\n",
    "\n",
    "def train_loop(train_loader, val_loader, model, criterion, optimizer, epochs, device):\n",
    "    model.to(device);\n",
    "    \n",
    "    for epoch in range(epochs):\n",
    "        print('epoch :', epoch)\n",
    "        \n",
    "        epoch_loss, epoch_acc = train_fn(train_loader, model, criterion, optimizer, device)\n",
    "        print('training loss: {:.4f}, training acc {:.4f} '.format(epoch_loss, epoch_acc.item()/CFG.batch_size))\n",
    "        \n",
    "        val_epoch_loss, val_epoch_acc = valid_fn(val_loader, model, criterion, device)\n",
    "        print('validation loss: {:.4f}, validation acc {:.4f} '.format(val_epoch_loss, val_epoch_acc.item()/CFG.batch_size))\n",
    "        \n",
    "hide_toggle(for_next=False)"
   ]
  },
  {
   "cell_type": "code",
   "execution_count": 30,
   "metadata": {},
   "outputs": [
    {
     "name": "stdout",
     "output_type": "stream",
     "text": [
      "Train: 4185 1046\n",
      "Test:  1047 261\n"
     ]
    }
   ],
   "source": [
    "train_dataset = TrainDataset(train, transform=get_transforms(data='train'))  # train train_without_augment\n",
    "train_loader = DataLoader(train_dataset, batch_size=CFG.batch_size, shuffle=True,\n",
    "                          num_workers=4, pin_memory=True, drop_last=True)\n",
    "\n",
    "val_dataset = TrainDataset(test, transform=get_transforms(data='valid'))\n",
    "val_loader = DataLoader(val_dataset, batch_size=CFG.batch_size, shuffle=True,\n",
    "                          num_workers=4, pin_memory=True, drop_last=True)\n",
    "\n",
    "print('Train:', len(train_dataset), len(train_loader))\n",
    "print('Test: ', len(val_dataset), len(val_loader))"
   ]
  },
  {
   "cell_type": "code",
   "execution_count": 31,
   "metadata": {},
   "outputs": [
    {
     "name": "stdout",
     "output_type": "stream",
     "text": [
      "torch.Size([3, 227, 227])\n"
     ]
    },
    {
     "data": {
      "image/png": "[encoded data removed]",
      "text/plain": [
       "<Figure size 1152x360 with 1 Axes>"
      ]
     },
     "metadata": {},
     "output_type": "display_data"
    }
   ],
   "source": [
    "def plot_image(i=0):\n",
    "    plt.figure(figsize=(16, 5))\n",
    "    UnNormalize = transforms.Compose([ \n",
    "        transforms.Normalize(mean = [ 0., 0., 0. ], std = [ 1/0.229, 1/0.224, 1/0.225 ]),\n",
    "        transforms.Normalize(mean = [ -0.485, -0.456, -0.406 ], std = [ 1., 1., 1. ]),])\n",
    "    \n",
    "    image = train_dataset[i][0]\n",
    "    print(image.shape)\n",
    "    image = UnNormalize(image)\n",
    "    image = image.numpy()\n",
    "    image = np.moveaxis(image, 0, -1)\n",
    "    plt.xticks([])\n",
    "    plt.yticks([])\n",
    "    plt.imshow(image)\n",
    "    plt.show()\n",
    "    \n",
    "plot_image(10)"
   ]
  },
  {
   "cell_type": "code",
   "execution_count": 19,
   "metadata": {},
   "outputs": [],
   "source": [
    "class AlexNet(nn.Module):\n",
    "    def __init__(self, model_name='resnext50_32x4d', pretrained=False, w_freeze=False):\n",
    "        super().__init__()\n",
    "        self.model = models.resnext50_32x4d(pretrained=pretrained)\n",
    "        \n",
    "        if w_freeze:\n",
    "            for param in self.model.parameters():\n",
    "                param.requires_grad = False\n",
    "        \n",
    "        n_features = self.model.fc.in_features\n",
    "        self.model.fc = nn.Linear(n_features, CFG.target_size)\n",
    "\n",
    "    def forward(self, x):\n",
    "        x = self.model(x)\n",
    "        return x"
   ]
  },
  {
   "cell_type": "code",
   "execution_count": 46,
   "metadata": {},
   "outputs": [],
   "source": [
    "class AlexNet(nn.Module):\n",
    "    def __init__(self):\n",
    "        super().__init__()\n",
    "        \n",
    "        # Lauer 1\n",
    "        self.conv1 = nn.Conv2d(in_channels=3, out_channels=96, kernel_size=11, stride=4, padding=0)\n",
    "        self.relu1 = nn.ReLU()\n",
    "        \n",
    "        # Lauer 2\n",
    "        self.maxpool2 = nn.MaxPool2d(kernel_size=3, stride=2)\n",
    "        \n",
    "        # Lauer 3\n",
    "        self.conv3 = nn.Conv2d(in_channels=96, out_channels=256, kernel_size=5, padding=2)\n",
    "        self.relu3 = nn.ReLU()\n",
    "        \n",
    "        # Lauer 4\n",
    "        self.maxpool4 = nn.MaxPool2d(kernel_size=3,stride=2)\n",
    "        \n",
    "        # Lauer 5\n",
    "        self.conv5 = nn.Conv2d(in_channels=256, out_channels=384, kernel_size=3, padding=1)\n",
    "        self.relu5 = nn.ReLU()\n",
    "        \n",
    "        # Lauer 6\n",
    "        self.conv6 = nn.Conv2d(in_channels=384, out_channels=384, kernel_size=3, padding=1)\n",
    "        self.relu6 = nn.ReLU()\n",
    "        \n",
    "        # Lauer 7\n",
    "        self.conv7 = nn.Conv2d(in_channels=384, out_channels=256, kernel_size=3, stride=1, padding=1)\n",
    "        self.relu7 = nn.ReLU()\n",
    "        \n",
    "        # Lauer 8\n",
    "        self.maxpool8 = nn.MaxPool2d(kernel_size=3, stride=2)\n",
    "        \n",
    "        # Lauer 9\n",
    "        self.dropout1 = nn.Dropout(0.5)\n",
    "        self.linear1 = nn.Linear(9216, 4096)\n",
    "        self.relu9 = nn.ReLU()\n",
    "        \n",
    "        # Lauer 10\n",
    "        self.dropout2 = nn.Dropout(0.5)\n",
    "        self.linear2 = nn.Linear(4096, 4096)\n",
    "        self.relu10 = nn.ReLU()\n",
    "        \n",
    "        # Lauer 11\n",
    "        self.linear3 = nn.Linear(4096, 1000)\n",
    "        \n",
    "        #self.bn1 = torch.nn.BatchNorm2d(16)\n",
    "        #self.dropout1 = nn.Dropout(0.5)\n",
    "          \n",
    "    def forward(self, x):\n",
    "        # Lauer 1\n",
    "        out = self.conv1(x)\n",
    "        out = self.relu1(out)\n",
    "        # Lauer 2\n",
    "        out = self.maxpool2(out)\n",
    "        # Lauer 3\n",
    "        out = self.conv3(out)\n",
    "        out = self.relu3(out)\n",
    "        # Lauer 4\n",
    "        out = self.maxpool4(out)\n",
    "        # Lauer 5\n",
    "        out = self.conv5(out)\n",
    "        out = self.relu5(out)\n",
    "        # Lauer 6\n",
    "        out = self.conv6(out)\n",
    "        out = self.relu6(out)\n",
    "        # Lauer 7\n",
    "        out = self.conv7(out)\n",
    "        out = self.relu7(out)\n",
    "        # Lauer 8\n",
    "        out = self.maxpool8(out)\n",
    "        \n",
    "        out = out.view(out.size(0), -1)\n",
    "        # Lauer 9\n",
    "        out = self.dropout1(out)\n",
    "        out = self.linear1(out)\n",
    "        out = self.relu9(out)\n",
    "        # Lauer 10\n",
    "        out = self.dropout2(out)\n",
    "        out = self.linear2(out)\n",
    "        out = self.relu10(out)\n",
    "        # Lauer 11\n",
    "        out = self.linear3(out)\n",
    "        return out\n",
    "    "
   ]
  },
  {
   "cell_type": "code",
   "execution_count": 47,
   "metadata": {},
   "outputs": [],
   "source": [
    "model = AlexNet()\n",
    "model.to(device);\n",
    "\n",
    "optimizer = Adam(model.parameters(), lr=CFG.lr/10, weight_decay=CFG.weight_decay, amsgrad=False)\n",
    "error = nn.CrossEntropyLoss()"
   ]
  },
  {
   "cell_type": "code",
   "execution_count": 48,
   "metadata": {},
   "outputs": [
    {
     "name": "stdout",
     "output_type": "stream",
     "text": [
      "epoch : 0\n",
      "training loss: 0.7803, training acc 0.7428 \n",
      "validation loss: 0.3640, validation acc 0.8534 \n",
      "epoch : 1\n",
      "training loss: 0.3260, training acc 0.8614 \n",
      "validation loss: 0.2377, validation acc 0.9109 \n",
      "epoch : 2\n",
      "training loss: 0.2467, training acc 0.9042 \n",
      "validation loss: 0.3361, validation acc 0.8582 \n",
      "epoch : 3\n",
      "training loss: 0.2078, training acc 0.9175 \n",
      "validation loss: 0.1668, validation acc 0.9339 \n",
      "epoch : 4\n",
      "training loss: 0.1852, training acc 0.9228 \n",
      "validation loss: 0.1019, validation acc 0.9655 \n",
      "epoch : 5\n",
      "training loss: 0.1727, training acc 0.9336 \n",
      "validation loss: 0.1729, validation acc 0.9320 \n",
      "epoch : 6\n",
      "training loss: 0.1718, training acc 0.9314 \n",
      "validation loss: 0.1452, validation acc 0.9387 \n",
      "epoch : 7\n",
      "training loss: 0.1475, training acc 0.9431 \n",
      "validation loss: 0.1336, validation acc 0.9444 \n",
      "epoch : 8\n",
      "training loss: 0.1568, training acc 0.9419 \n",
      "validation loss: 0.1343, validation acc 0.9464 \n",
      "epoch : 9\n",
      "training loss: 0.1405, training acc 0.9450 \n",
      "validation loss: 0.0838, validation acc 0.9684 \n"
     ]
    }
   ],
   "source": [
    "train_loop(train_loader, val_loader, model, error, optimizer, 10, device)"
   ]
  },
  {
   "cell_type": "code",
   "execution_count": 40,
   "metadata": {},
   "outputs": [
    {
     "data": {
      "text/plain": [
       "AlexNet(\n",
       "  (conv1): Conv2d(3, 96, kernel_size=(11, 11), stride=(4, 4))\n",
       "  (relu1): ReLU()\n",
       "  (maxpool2): MaxPool2d(kernel_size=3, stride=2, padding=0, dilation=1, ceil_mode=False)\n",
       "  (conv3): Conv2d(96, 256, kernel_size=(5, 5), stride=(1, 1), padding=(2, 2))\n",
       "  (relu3): ReLU()\n",
       "  (maxpool4): MaxPool2d(kernel_size=3, stride=2, padding=0, dilation=1, ceil_mode=False)\n",
       "  (conv5): Conv2d(256, 384, kernel_size=(3, 3), stride=(1, 1), padding=(1, 1))\n",
       "  (relu5): ReLU()\n",
       "  (conv6): Conv2d(384, 384, kernel_size=(3, 3), stride=(1, 1), padding=(1, 1))\n",
       "  (relu6): ReLU()\n",
       "  (conv7): Conv2d(384, 256, kernel_size=(3, 3), stride=(1, 1), padding=(1, 1))\n",
       "  (relu7): ReLU()\n",
       "  (maxpool8): MaxPool2d(kernel_size=3, stride=2, padding=0, dilation=1, ceil_mode=False)\n",
       "  (linear1): Linear(in_features=9216, out_features=4096, bias=True)\n",
       "  (relu9): ReLU()\n",
       "  (linear2): Linear(in_features=4096, out_features=4096, bias=True)\n",
       "  (relu10): ReLU()\n",
       "  (linear3): Linear(in_features=4096, out_features=1000, bias=True)\n",
       ")"
      ]
     },
     "execution_count": 40,
     "metadata": {},
     "output_type": "execute_result"
    }
   ],
   "source": [
    "model"
   ]
  },
  {
   "cell_type": "code",
   "execution_count": null,
   "metadata": {},
   "outputs": [],
   "source": []
  },
  {
   "cell_type": "code",
   "execution_count": null,
   "metadata": {},
   "outputs": [],
   "source": []
  },
  {
   "cell_type": "code",
   "execution_count": null,
   "metadata": {},
   "outputs": [],
   "source": []
  },
  {
   "cell_type": "code",
   "execution_count": null,
   "metadata": {},
   "outputs": [],
   "source": []
  },
  {
   "cell_type": "code",
   "execution_count": null,
   "metadata": {},
   "outputs": [],
   "source": []
  },
  {
   "cell_type": "code",
   "execution_count": null,
   "metadata": {},
   "outputs": [],
   "source": []
  },
  {
   "cell_type": "code",
   "execution_count": null,
   "metadata": {},
   "outputs": [],
   "source": []
  },
  {
   "cell_type": "code",
   "execution_count": null,
   "metadata": {},
   "outputs": [],
   "source": []
  },
  {
   "cell_type": "code",
   "execution_count": null,
   "metadata": {},
   "outputs": [],
   "source": []
  },
  {
   "cell_type": "code",
   "execution_count": null,
   "metadata": {},
   "outputs": [],
   "source": []
  },
  {
   "cell_type": "code",
   "execution_count": null,
   "metadata": {},
   "outputs": [],
   "source": []
  }
 ],
 "metadata": {
  "kernelspec": {
   "display_name": "Python 3",
   "language": "python",
   "name": "python3"
  },
  "language_info": {
   "codemirror_mode": {
    "name": "ipython",
    "version": 3
   },
   "file_extension": ".py",
   "mimetype": "text/x-python",
   "name": "python",
   "nbconvert_exporter": "python",
   "pygments_lexer": "ipython3",
   "version": "3.7.6"
  }
 },
 "nbformat": 4,
 "nbformat_minor": 4
}
